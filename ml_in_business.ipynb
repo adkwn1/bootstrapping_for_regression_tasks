{
 "cells": [
  {
   "attachments": {},
   "cell_type": "markdown",
   "metadata": {},
   "source": [
    "## Introduction ##\n",
    "\n",
    "In this project, we are working for a mining company to find the best place for a new oil well. Given a set of data, we will build a linear regression model that will predict the volume of oil reserves for new wells. Our goal is to select the region with the highest profit margin based on the predicted volumes. We will evaluate and justify our selection by calculating the average profit, 95% condience interval and risk of losses (profit loss probability expressed as a percentage) using the Bootstrapping technique. The data we are provided are as follows:\n",
    "\n",
    "**geo_data_0.csv, geo_data_1.csv, geo_data_2.csv**  \n",
    "- *id*: unique oil well identifier\n",
    "- *f0, f1, f2*: three features of points (their specific meaning is unimportant, but the features themselves are significant)\n",
    "- *product*: volume of reserves in the oil well (thousand barrels)\n",
    "\n",
    "For calculating potential profitability and risk, we are provided the following development conditions:\n",
    "- A study of 500 points is carried with picking the best 200 points for the profit calculation.\n",
    "- The budget for development of 200 oil wells is 100 USD million.\n",
    "- One barrel of raw materials brings 4.5 USD of revenue. The revenue from one unit of product is 4,500 dollars (volume of reserves is in thousand barrels).\n",
    "- Only regions with the risk of losses lower than 2.5% will be considered. From the ones that fit the criteria, the region with the highest average profit should be selected."
   ]
  },
  {
   "attachments": {},
   "cell_type": "markdown",
   "metadata": {},
   "source": [
    "## Imports ##\n",
    "\n",
    "**Packages, Libraries, and Modules**"
   ]
  },
  {
   "cell_type": "code",
   "execution_count": 1,
   "metadata": {},
   "outputs": [],
   "source": [
    "import pandas as pd\n",
    "import numpy as np\n",
    "from sklearn.linear_model import LinearRegression\n",
    "from sklearn.model_selection import train_test_split\n",
    "from sklearn.metrics import mean_squared_error\n",
    "from scipy import stats as st"
   ]
  },
  {
   "attachments": {},
   "cell_type": "markdown",
   "metadata": {},
   "source": [
    "## Reading and Inspecting the Data ##\n",
    "\n",
    "**Data info and Sample**"
   ]
  },
  {
   "cell_type": "code",
   "execution_count": 2,
   "metadata": {},
   "outputs": [
    {
     "name": "stdout",
     "output_type": "stream",
     "text": [
      "<class 'pandas.core.frame.DataFrame'>\n",
      "RangeIndex: 100000 entries, 0 to 99999\n",
      "Data columns (total 5 columns):\n",
      " #   Column   Non-Null Count   Dtype  \n",
      "---  ------   --------------   -----  \n",
      " 0   id       100000 non-null  object \n",
      " 1   f0       100000 non-null  float64\n",
      " 2   f1       100000 non-null  float64\n",
      " 3   f2       100000 non-null  float64\n",
      " 4   product  100000 non-null  float64\n",
      "dtypes: float64(4), object(1)\n",
      "memory usage: 3.8+ MB\n"
     ]
    },
    {
     "data": {
      "text/html": [
       "<div>\n",
       "<style scoped>\n",
       "    .dataframe tbody tr th:only-of-type {\n",
       "        vertical-align: middle;\n",
       "    }\n",
       "\n",
       "    .dataframe tbody tr th {\n",
       "        vertical-align: top;\n",
       "    }\n",
       "\n",
       "    .dataframe thead th {\n",
       "        text-align: right;\n",
       "    }\n",
       "</style>\n",
       "<table border=\"1\" class=\"dataframe\">\n",
       "  <thead>\n",
       "    <tr style=\"text-align: right;\">\n",
       "      <th></th>\n",
       "      <th>id</th>\n",
       "      <th>f0</th>\n",
       "      <th>f1</th>\n",
       "      <th>f2</th>\n",
       "      <th>product</th>\n",
       "    </tr>\n",
       "  </thead>\n",
       "  <tbody>\n",
       "    <tr>\n",
       "      <th>20823</th>\n",
       "      <td>2DHY0</td>\n",
       "      <td>1.937329</td>\n",
       "      <td>0.331056</td>\n",
       "      <td>2.001616</td>\n",
       "      <td>28.899223</td>\n",
       "    </tr>\n",
       "    <tr>\n",
       "      <th>51379</th>\n",
       "      <td>mjW5x</td>\n",
       "      <td>-0.842372</td>\n",
       "      <td>0.573771</td>\n",
       "      <td>3.425880</td>\n",
       "      <td>54.528586</td>\n",
       "    </tr>\n",
       "    <tr>\n",
       "      <th>9374</th>\n",
       "      <td>J7be7</td>\n",
       "      <td>1.759669</td>\n",
       "      <td>-0.098984</td>\n",
       "      <td>3.124650</td>\n",
       "      <td>104.348377</td>\n",
       "    </tr>\n",
       "    <tr>\n",
       "      <th>59756</th>\n",
       "      <td>NkI0f</td>\n",
       "      <td>-0.957420</td>\n",
       "      <td>0.471977</td>\n",
       "      <td>-4.172174</td>\n",
       "      <td>25.544510</td>\n",
       "    </tr>\n",
       "    <tr>\n",
       "      <th>67890</th>\n",
       "      <td>d2qQp</td>\n",
       "      <td>-0.163030</td>\n",
       "      <td>1.097857</td>\n",
       "      <td>-1.594005</td>\n",
       "      <td>7.745261</td>\n",
       "    </tr>\n",
       "    <tr>\n",
       "      <th>37171</th>\n",
       "      <td>L4ukK</td>\n",
       "      <td>1.598888</td>\n",
       "      <td>-0.124044</td>\n",
       "      <td>0.289769</td>\n",
       "      <td>58.523787</td>\n",
       "    </tr>\n",
       "    <tr>\n",
       "      <th>25214</th>\n",
       "      <td>HJugI</td>\n",
       "      <td>0.976285</td>\n",
       "      <td>-0.489327</td>\n",
       "      <td>7.923635</td>\n",
       "      <td>147.873573</td>\n",
       "    </tr>\n",
       "    <tr>\n",
       "      <th>63814</th>\n",
       "      <td>DxmMn</td>\n",
       "      <td>1.638379</td>\n",
       "      <td>-0.472472</td>\n",
       "      <td>-2.454135</td>\n",
       "      <td>86.908642</td>\n",
       "    </tr>\n",
       "    <tr>\n",
       "      <th>66766</th>\n",
       "      <td>fqswp</td>\n",
       "      <td>0.173234</td>\n",
       "      <td>0.942078</td>\n",
       "      <td>-1.636512</td>\n",
       "      <td>39.023846</td>\n",
       "    </tr>\n",
       "    <tr>\n",
       "      <th>66171</th>\n",
       "      <td>eCWpN</td>\n",
       "      <td>-0.924806</td>\n",
       "      <td>0.035794</td>\n",
       "      <td>5.395557</td>\n",
       "      <td>104.397843</td>\n",
       "    </tr>\n",
       "  </tbody>\n",
       "</table>\n",
       "</div>"
      ],
      "text/plain": [
       "          id        f0        f1        f2     product\n",
       "20823  2DHY0  1.937329  0.331056  2.001616   28.899223\n",
       "51379  mjW5x -0.842372  0.573771  3.425880   54.528586\n",
       "9374   J7be7  1.759669 -0.098984  3.124650  104.348377\n",
       "59756  NkI0f -0.957420  0.471977 -4.172174   25.544510\n",
       "67890  d2qQp -0.163030  1.097857 -1.594005    7.745261\n",
       "37171  L4ukK  1.598888 -0.124044  0.289769   58.523787\n",
       "25214  HJugI  0.976285 -0.489327  7.923635  147.873573\n",
       "63814  DxmMn  1.638379 -0.472472 -2.454135   86.908642\n",
       "66766  fqswp  0.173234  0.942078 -1.636512   39.023846\n",
       "66171  eCWpN -0.924806  0.035794  5.395557  104.397843"
      ]
     },
     "metadata": {},
     "output_type": "display_data"
    },
    {
     "name": "stdout",
     "output_type": "stream",
     "text": [
      "<class 'pandas.core.frame.DataFrame'>\n",
      "RangeIndex: 100000 entries, 0 to 99999\n",
      "Data columns (total 5 columns):\n",
      " #   Column   Non-Null Count   Dtype  \n",
      "---  ------   --------------   -----  \n",
      " 0   id       100000 non-null  object \n",
      " 1   f0       100000 non-null  float64\n",
      " 2   f1       100000 non-null  float64\n",
      " 3   f2       100000 non-null  float64\n",
      " 4   product  100000 non-null  float64\n",
      "dtypes: float64(4), object(1)\n",
      "memory usage: 3.8+ MB\n"
     ]
    },
    {
     "data": {
      "text/html": [
       "<div>\n",
       "<style scoped>\n",
       "    .dataframe tbody tr th:only-of-type {\n",
       "        vertical-align: middle;\n",
       "    }\n",
       "\n",
       "    .dataframe tbody tr th {\n",
       "        vertical-align: top;\n",
       "    }\n",
       "\n",
       "    .dataframe thead th {\n",
       "        text-align: right;\n",
       "    }\n",
       "</style>\n",
       "<table border=\"1\" class=\"dataframe\">\n",
       "  <thead>\n",
       "    <tr style=\"text-align: right;\">\n",
       "      <th></th>\n",
       "      <th>id</th>\n",
       "      <th>f0</th>\n",
       "      <th>f1</th>\n",
       "      <th>f2</th>\n",
       "      <th>product</th>\n",
       "    </tr>\n",
       "  </thead>\n",
       "  <tbody>\n",
       "    <tr>\n",
       "      <th>93171</th>\n",
       "      <td>49Fqn</td>\n",
       "      <td>13.646007</td>\n",
       "      <td>5.451887</td>\n",
       "      <td>0.006049</td>\n",
       "      <td>0.000000</td>\n",
       "    </tr>\n",
       "    <tr>\n",
       "      <th>7438</th>\n",
       "      <td>cXIRN</td>\n",
       "      <td>8.737388</td>\n",
       "      <td>-5.613791</td>\n",
       "      <td>-0.003143</td>\n",
       "      <td>0.000000</td>\n",
       "    </tr>\n",
       "    <tr>\n",
       "      <th>55976</th>\n",
       "      <td>YyCvd</td>\n",
       "      <td>-6.500767</td>\n",
       "      <td>2.808456</td>\n",
       "      <td>4.008309</td>\n",
       "      <td>110.992147</td>\n",
       "    </tr>\n",
       "    <tr>\n",
       "      <th>91199</th>\n",
       "      <td>0mso8</td>\n",
       "      <td>-6.432763</td>\n",
       "      <td>-8.095575</td>\n",
       "      <td>-0.005905</td>\n",
       "      <td>3.179103</td>\n",
       "    </tr>\n",
       "    <tr>\n",
       "      <th>90036</th>\n",
       "      <td>q9ql2</td>\n",
       "      <td>3.672887</td>\n",
       "      <td>-11.661420</td>\n",
       "      <td>4.984688</td>\n",
       "      <td>134.766305</td>\n",
       "    </tr>\n",
       "    <tr>\n",
       "      <th>96025</th>\n",
       "      <td>u0T70</td>\n",
       "      <td>-9.117380</td>\n",
       "      <td>3.067011</td>\n",
       "      <td>4.002817</td>\n",
       "      <td>110.992147</td>\n",
       "    </tr>\n",
       "    <tr>\n",
       "      <th>64654</th>\n",
       "      <td>CpGw3</td>\n",
       "      <td>5.660266</td>\n",
       "      <td>3.574557</td>\n",
       "      <td>3.002154</td>\n",
       "      <td>80.859783</td>\n",
       "    </tr>\n",
       "    <tr>\n",
       "      <th>1787</th>\n",
       "      <td>qkXYK</td>\n",
       "      <td>11.935348</td>\n",
       "      <td>-10.335086</td>\n",
       "      <td>1.999363</td>\n",
       "      <td>53.906522</td>\n",
       "    </tr>\n",
       "    <tr>\n",
       "      <th>5055</th>\n",
       "      <td>K1pqo</td>\n",
       "      <td>2.656001</td>\n",
       "      <td>-5.735697</td>\n",
       "      <td>5.005218</td>\n",
       "      <td>134.766305</td>\n",
       "    </tr>\n",
       "    <tr>\n",
       "      <th>6889</th>\n",
       "      <td>x3qMU</td>\n",
       "      <td>8.053023</td>\n",
       "      <td>-13.407494</td>\n",
       "      <td>3.012910</td>\n",
       "      <td>80.859783</td>\n",
       "    </tr>\n",
       "  </tbody>\n",
       "</table>\n",
       "</div>"
      ],
      "text/plain": [
       "          id         f0         f1        f2     product\n",
       "93171  49Fqn  13.646007   5.451887  0.006049    0.000000\n",
       "7438   cXIRN   8.737388  -5.613791 -0.003143    0.000000\n",
       "55976  YyCvd  -6.500767   2.808456  4.008309  110.992147\n",
       "91199  0mso8  -6.432763  -8.095575 -0.005905    3.179103\n",
       "90036  q9ql2   3.672887 -11.661420  4.984688  134.766305\n",
       "96025  u0T70  -9.117380   3.067011  4.002817  110.992147\n",
       "64654  CpGw3   5.660266   3.574557  3.002154   80.859783\n",
       "1787   qkXYK  11.935348 -10.335086  1.999363   53.906522\n",
       "5055   K1pqo   2.656001  -5.735697  5.005218  134.766305\n",
       "6889   x3qMU   8.053023 -13.407494  3.012910   80.859783"
      ]
     },
     "metadata": {},
     "output_type": "display_data"
    },
    {
     "name": "stdout",
     "output_type": "stream",
     "text": [
      "<class 'pandas.core.frame.DataFrame'>\n",
      "RangeIndex: 100000 entries, 0 to 99999\n",
      "Data columns (total 5 columns):\n",
      " #   Column   Non-Null Count   Dtype  \n",
      "---  ------   --------------   -----  \n",
      " 0   id       100000 non-null  object \n",
      " 1   f0       100000 non-null  float64\n",
      " 2   f1       100000 non-null  float64\n",
      " 3   f2       100000 non-null  float64\n",
      " 4   product  100000 non-null  float64\n",
      "dtypes: float64(4), object(1)\n",
      "memory usage: 3.8+ MB\n"
     ]
    },
    {
     "data": {
      "text/html": [
       "<div>\n",
       "<style scoped>\n",
       "    .dataframe tbody tr th:only-of-type {\n",
       "        vertical-align: middle;\n",
       "    }\n",
       "\n",
       "    .dataframe tbody tr th {\n",
       "        vertical-align: top;\n",
       "    }\n",
       "\n",
       "    .dataframe thead th {\n",
       "        text-align: right;\n",
       "    }\n",
       "</style>\n",
       "<table border=\"1\" class=\"dataframe\">\n",
       "  <thead>\n",
       "    <tr style=\"text-align: right;\">\n",
       "      <th></th>\n",
       "      <th>id</th>\n",
       "      <th>f0</th>\n",
       "      <th>f1</th>\n",
       "      <th>f2</th>\n",
       "      <th>product</th>\n",
       "    </tr>\n",
       "  </thead>\n",
       "  <tbody>\n",
       "    <tr>\n",
       "      <th>62718</th>\n",
       "      <td>RMDO5</td>\n",
       "      <td>-1.157487</td>\n",
       "      <td>-1.951781</td>\n",
       "      <td>1.726350</td>\n",
       "      <td>44.771841</td>\n",
       "    </tr>\n",
       "    <tr>\n",
       "      <th>22976</th>\n",
       "      <td>mqJnc</td>\n",
       "      <td>1.162697</td>\n",
       "      <td>-0.875760</td>\n",
       "      <td>-0.657080</td>\n",
       "      <td>30.179231</td>\n",
       "    </tr>\n",
       "    <tr>\n",
       "      <th>68095</th>\n",
       "      <td>PFWO6</td>\n",
       "      <td>0.814750</td>\n",
       "      <td>-0.075592</td>\n",
       "      <td>4.438996</td>\n",
       "      <td>106.881234</td>\n",
       "    </tr>\n",
       "    <tr>\n",
       "      <th>53276</th>\n",
       "      <td>TYXlh</td>\n",
       "      <td>0.629148</td>\n",
       "      <td>-3.177217</td>\n",
       "      <td>5.029556</td>\n",
       "      <td>179.105930</td>\n",
       "    </tr>\n",
       "    <tr>\n",
       "      <th>5688</th>\n",
       "      <td>HakxU</td>\n",
       "      <td>0.423200</td>\n",
       "      <td>0.822557</td>\n",
       "      <td>5.229675</td>\n",
       "      <td>86.223820</td>\n",
       "    </tr>\n",
       "    <tr>\n",
       "      <th>2083</th>\n",
       "      <td>FU4kX</td>\n",
       "      <td>0.786466</td>\n",
       "      <td>-1.850974</td>\n",
       "      <td>8.066554</td>\n",
       "      <td>116.575609</td>\n",
       "    </tr>\n",
       "    <tr>\n",
       "      <th>56043</th>\n",
       "      <td>O0Ai7</td>\n",
       "      <td>1.452218</td>\n",
       "      <td>1.041417</td>\n",
       "      <td>0.772754</td>\n",
       "      <td>25.800099</td>\n",
       "    </tr>\n",
       "    <tr>\n",
       "      <th>57858</th>\n",
       "      <td>nPLWm</td>\n",
       "      <td>0.538214</td>\n",
       "      <td>0.262635</td>\n",
       "      <td>2.351075</td>\n",
       "      <td>113.386961</td>\n",
       "    </tr>\n",
       "    <tr>\n",
       "      <th>80423</th>\n",
       "      <td>dpXXX</td>\n",
       "      <td>-0.991385</td>\n",
       "      <td>-1.186877</td>\n",
       "      <td>0.925543</td>\n",
       "      <td>121.908448</td>\n",
       "    </tr>\n",
       "    <tr>\n",
       "      <th>47934</th>\n",
       "      <td>P8Q3Y</td>\n",
       "      <td>-5.181205</td>\n",
       "      <td>3.613947</td>\n",
       "      <td>3.200127</td>\n",
       "      <td>98.238020</td>\n",
       "    </tr>\n",
       "  </tbody>\n",
       "</table>\n",
       "</div>"
      ],
      "text/plain": [
       "          id        f0        f1        f2     product\n",
       "62718  RMDO5 -1.157487 -1.951781  1.726350   44.771841\n",
       "22976  mqJnc  1.162697 -0.875760 -0.657080   30.179231\n",
       "68095  PFWO6  0.814750 -0.075592  4.438996  106.881234\n",
       "53276  TYXlh  0.629148 -3.177217  5.029556  179.105930\n",
       "5688   HakxU  0.423200  0.822557  5.229675   86.223820\n",
       "2083   FU4kX  0.786466 -1.850974  8.066554  116.575609\n",
       "56043  O0Ai7  1.452218  1.041417  0.772754   25.800099\n",
       "57858  nPLWm  0.538214  0.262635  2.351075  113.386961\n",
       "80423  dpXXX -0.991385 -1.186877  0.925543  121.908448\n",
       "47934  P8Q3Y -5.181205  3.613947  3.200127   98.238020"
      ]
     },
     "metadata": {},
     "output_type": "display_data"
    }
   ],
   "source": [
    "# When cloning this project, ensure directory/file paths are correct with respect to user's operating system\n",
    "region_0 = pd.read_csv('datasets/geo_data_0.csv')\n",
    "region_1 = pd.read_csv('datasets/geo_data_1.csv')\n",
    "region_2 = pd.read_csv('datasets/geo_data_2.csv')\n",
    "\n",
    "region_0.info()\n",
    "display(region_0.sample(10))\n",
    "\n",
    "region_1.info()\n",
    "display(region_1.sample(10))\n",
    "\n",
    "region_2.info()\n",
    "display(region_2.sample(10))"
   ]
  },
  {
   "attachments": {},
   "cell_type": "markdown",
   "metadata": {},
   "source": [
    "The datasets appear to be in good order. Each region (dataset) has 100,000 observations/entries, no missing values, and the datatypes are appropriate. Next, we'll ensure there are no duplicate values."
   ]
  },
  {
   "attachments": {},
   "cell_type": "markdown",
   "metadata": {},
   "source": [
    "**Checking for Duplicate Values**"
   ]
  },
  {
   "cell_type": "code",
   "execution_count": 3,
   "metadata": {},
   "outputs": [
    {
     "name": "stdout",
     "output_type": "stream",
     "text": [
      "Number of duplicates for Region 0:  0\n",
      "Number of duplicates for Region 1:  0\n",
      "Number of duplicates for Region 2:  0\n"
     ]
    }
   ],
   "source": [
    "print('Number of duplicates for Region 0: ', region_0.duplicated().sum())\n",
    "print('Number of duplicates for Region 1: ', region_1.duplicated().sum())\n",
    "print('Number of duplicates for Region 2: ', region_2.duplicated().sum())"
   ]
  },
  {
   "attachments": {},
   "cell_type": "markdown",
   "metadata": {},
   "source": [
    "There are no duplicate rows in any of the datasets."
   ]
  },
  {
   "attachments": {},
   "cell_type": "markdown",
   "metadata": {},
   "source": [
    "## Model Training and Predictions ##\n",
    "\n",
    "For each region, we'll split the data into a training set and validation set with a 3:1 ratio:\n",
    "- *training*: 75%\n",
    "- *validation*: 25%\n",
    "\n",
    "A linear regression model will be trained on the features (i.e. f0, f1, f2) for each region with a target variable of product volume. We will store the predictions and targets for each validation set in a list, which will be used later on for profit and risk calculations."
   ]
  },
  {
   "cell_type": "code",
   "execution_count": 4,
   "metadata": {},
   "outputs": [],
   "source": [
    "region_list = [region_0, region_1, region_2]\n",
    "predict_list = []\n",
    "target_list = []\n",
    "model = LinearRegression()\n",
    "\n",
    "for region in region_list:\n",
    "    features = region[['f0','f1', 'f2']]\n",
    "    target = region['product']\n",
    "\n",
    "    features_train, features_valid, target_train, target_valid = train_test_split(features, target, test_size=0.25, random_state=12345)\n",
    "\n",
    "    model.fit(features_train, target_train)\n",
    "    predicted = model.predict(features_valid)\n",
    "    predict_list.append(pd.Series(predicted, index=target_valid.index))\n",
    "    target_list.append(target_valid)"
   ]
  },
  {
   "attachments": {},
   "cell_type": "markdown",
   "metadata": {},
   "source": [
    "To faciliate displaying the different calculations during our analysis, we'll define a function,  **compile_df( )**, as follows:\n",
    "\n",
    "**Parameters**:\n",
    "- *data_list*: List object containing the calculated values for each region.\n",
    "- *column_names*: Column names for the data.\n",
    "\n",
    "**Returns**: DataFrame object compiled from the parameters."
   ]
  },
  {
   "cell_type": "code",
   "execution_count": 5,
   "metadata": {},
   "outputs": [],
   "source": [
    "def compile_df(data_list, column_names):\n",
    "    table = [['Region 0'], ['Region 1'], ['Region 2']]\n",
    "    values= []\n",
    "    \n",
    "    for i in range(len(table)):\n",
    "        values.append(table[i]+data_list[i])\n",
    "    \n",
    "    return pd.DataFrame(data=values, columns=column_names)"
   ]
  },
  {
   "attachments": {},
   "cell_type": "markdown",
   "metadata": {},
   "source": [
    "**Average Estimated Volume and RMSE**"
   ]
  },
  {
   "cell_type": "code",
   "execution_count": 6,
   "metadata": {},
   "outputs": [
    {
     "data": {
      "text/html": [
       "<div>\n",
       "<style scoped>\n",
       "    .dataframe tbody tr th:only-of-type {\n",
       "        vertical-align: middle;\n",
       "    }\n",
       "\n",
       "    .dataframe tbody tr th {\n",
       "        vertical-align: top;\n",
       "    }\n",
       "\n",
       "    .dataframe thead th {\n",
       "        text-align: right;\n",
       "    }\n",
       "</style>\n",
       "<table border=\"1\" class=\"dataframe\">\n",
       "  <thead>\n",
       "    <tr style=\"text-align: right;\">\n",
       "      <th></th>\n",
       "      <th>Region</th>\n",
       "      <th>Average Estimated Volume</th>\n",
       "      <th>RMSE</th>\n",
       "    </tr>\n",
       "  </thead>\n",
       "  <tbody>\n",
       "    <tr>\n",
       "      <th>0</th>\n",
       "      <td>Region 0</td>\n",
       "      <td>92.592568</td>\n",
       "      <td>37.579422</td>\n",
       "    </tr>\n",
       "    <tr>\n",
       "      <th>1</th>\n",
       "      <td>Region 1</td>\n",
       "      <td>68.728547</td>\n",
       "      <td>0.893099</td>\n",
       "    </tr>\n",
       "    <tr>\n",
       "      <th>2</th>\n",
       "      <td>Region 2</td>\n",
       "      <td>94.965046</td>\n",
       "      <td>40.029709</td>\n",
       "    </tr>\n",
       "  </tbody>\n",
       "</table>\n",
       "</div>"
      ],
      "text/plain": [
       "     Region  Average Estimated Volume       RMSE\n",
       "0  Region 0                 92.592568  37.579422\n",
       "1  Region 1                 68.728547   0.893099\n",
       "2  Region 2                 94.965046  40.029709"
      ]
     },
     "metadata": {},
     "output_type": "display_data"
    }
   ],
   "source": [
    "cols = ['Region', 'Average Estimated Volume', 'RMSE']\n",
    "data = []\n",
    "\n",
    "for i in range(len(region_list)):\n",
    "    data.append([predict_list[i].mean()] + [mean_squared_error(target_list[i], predict_list[i])**0.5])\n",
    "\n",
    "display(compile_df(data, cols))"
   ]
  },
  {
   "attachments": {},
   "cell_type": "markdown",
   "metadata": {},
   "source": [
    "Our model predicts the average volume of reserves for region 0 and region 2 are about 92-95 product units (thousands of barrels), whereas region 1 is estimated to be about 68 product units. The RMSE suggests the model estimated values close to the true volume for region 1, whereas the other regions could potentially have large margins of errors."
   ]
  },
  {
   "attachments": {},
   "cell_type": "markdown",
   "metadata": {},
   "source": [
    "## Preparing Profit Calculation ##"
   ]
  },
  {
   "attachments": {},
   "cell_type": "markdown",
   "metadata": {},
   "source": [
    "**Key Values**\n",
    "\n",
    "The following key values used in calculating profits are stored in separate variables to facilitate future scalability and/or modularity:\n",
    "- *revenue_per_unit*: 4,500 USD per unit of product\n",
    "- *min_survey_size*: 500 points surveyed per region\n",
    "- *wells_per_survey*: For each survey, top 200 points selected for profit calculation\n",
    "- *budget_per_survey*: 100 million USD development budget for 200 wells"
   ]
  },
  {
   "cell_type": "code",
   "execution_count": 7,
   "metadata": {},
   "outputs": [],
   "source": [
    "revenue_per_unit = 4500\n",
    "min_survey_size = 500\n",
    "wells_per_survey = 200\n",
    "budget_per_survey = 100e+06 # 100 million expressed in scientific notation for readability"
   ]
  },
  {
   "attachments": {},
   "cell_type": "markdown",
   "metadata": {},
   "source": [
    "**Minimum Reserve Volume**\n",
    "\n",
    "Given our conditions and budget, we can calculate the minimum oil reserve volume required for development without a loss."
   ]
  },
  {
   "cell_type": "code",
   "execution_count": 8,
   "metadata": {},
   "outputs": [
    {
     "name": "stdout",
     "output_type": "stream",
     "text": [
      "Minimum reserve volume (thousands of barrels) per 200 wells:  22222.222222222223\n",
      "Minimum reserve volume (thousands of barrels) per well:  111.11111111111111 \n",
      "\n",
      "Region  0  average volume:  92.50000000000001\n",
      "Region  1  average volume:  68.82500000000002\n",
      "Region  2  average volume:  95.00000000000004\n"
     ]
    }
   ],
   "source": [
    "print('Minimum reserve volume (thousands of barrels) per 200 wells: ', budget_per_survey/revenue_per_unit)\n",
    "print('Minimum reserve volume (thousands of barrels) per well: ', (budget_per_survey/revenue_per_unit)/wells_per_survey, '\\n')\n",
    "\n",
    "for i in range(len(region_list)):\n",
    "    print('Region ', i, ' average volume: ', region_list[i]['product'].mean())"
   ]
  },
  {
   "attachments": {},
   "cell_type": "markdown",
   "metadata": {},
   "source": [
    "We can see the average estimated volume is fairly close to the actual average volume of reserves for each region. Based on our budget and development conditions, we would need approximately 22,222 product units to develop 200 wells above a loss (approximately 111 product units per well). The average for each region is below the the profit threshold. This indicates when we consider the top 200 wells per region, we'll need to ensure we have a large enough volume to compensate for any wells below the minimum/average."
   ]
  },
  {
   "attachments": {},
   "cell_type": "markdown",
   "metadata": {},
   "source": [
    "## Calculating Profit and Risk ##\n",
    "\n",
    "To calculate profits based on our predicted volumes, we'll define the function, **calc_profit_avg_volume( )**, as follows:\n",
    "\n",
    "**Parameters**:\n",
    "- *target*: Series object of true target values\n",
    "- *prediction*: Series object of predicted values\n",
    "\n",
    "**Returns**: A tuple of the profit for 200 new wells and averge volume of the selected wells.\n",
    "- The estimated volumes are sorted in descending order. The true target values, corresponding to the indices of the sorted predictions, are used for revenue and average volume calculations.\n",
    "- Revenue less budget results in overall profit for top 200 wells by volume."
   ]
  },
  {
   "cell_type": "code",
   "execution_count": 9,
   "metadata": {},
   "outputs": [],
   "source": [
    "def calc_profit_avg_volume(target, prediction):\n",
    "    prediction_sorted = prediction.sort_values(ascending=False)\n",
    "    selected_wells = target[prediction_sorted.index].iloc[:wells_per_survey]\n",
    "    avg_volume = selected_wells.mean()\n",
    "\n",
    "    return ((revenue_per_unit*selected_wells.sum()) - budget_per_survey), avg_volume"
   ]
  },
  {
   "cell_type": "code",
   "execution_count": 10,
   "metadata": {},
   "outputs": [
    {
     "data": {
      "text/html": [
       "<div>\n",
       "<style scoped>\n",
       "    .dataframe tbody tr th:only-of-type {\n",
       "        vertical-align: middle;\n",
       "    }\n",
       "\n",
       "    .dataframe tbody tr th {\n",
       "        vertical-align: top;\n",
       "    }\n",
       "\n",
       "    .dataframe thead th {\n",
       "        text-align: right;\n",
       "    }\n",
       "</style>\n",
       "<table border=\"1\" class=\"dataframe\">\n",
       "  <thead>\n",
       "    <tr style=\"text-align: right;\">\n",
       "      <th></th>\n",
       "      <th>Region</th>\n",
       "      <th>Profit</th>\n",
       "      <th>Average Volume</th>\n",
       "    </tr>\n",
       "  </thead>\n",
       "  <tbody>\n",
       "    <tr>\n",
       "      <th>0</th>\n",
       "      <td>Region 0</td>\n",
       "      <td>3.320826e+07</td>\n",
       "      <td>148.009178</td>\n",
       "    </tr>\n",
       "    <tr>\n",
       "      <th>1</th>\n",
       "      <td>Region 1</td>\n",
       "      <td>2.415087e+07</td>\n",
       "      <td>137.945408</td>\n",
       "    </tr>\n",
       "    <tr>\n",
       "      <th>2</th>\n",
       "      <td>Region 2</td>\n",
       "      <td>2.710350e+07</td>\n",
       "      <td>141.226111</td>\n",
       "    </tr>\n",
       "  </tbody>\n",
       "</table>\n",
       "</div>"
      ],
      "text/plain": [
       "     Region        Profit  Average Volume\n",
       "0  Region 0  3.320826e+07      148.009178\n",
       "1  Region 1  2.415087e+07      137.945408\n",
       "2  Region 2  2.710350e+07      141.226111"
      ]
     },
     "metadata": {},
     "output_type": "display_data"
    }
   ],
   "source": [
    "cols = ['Region', 'Profit', 'Average Volume']\n",
    "\n",
    "data = []\n",
    "for i in range(len(region_list)):\n",
    "    profit, avg_volume = calc_profit_avg_volume(target_list[i], predict_list[i])\n",
    "    data.append([profit] + [avg_volume])\n",
    "\n",
    "display(compile_df(data, cols))"
   ]
  },
  {
   "attachments": {},
   "cell_type": "markdown",
   "metadata": {},
   "source": [
    "According to our model predictions, region 0 appears to be the most profitable with a calculated profit of approximately 33.2 Million USD and average reserve volume of 148 product units. \n",
    "\n",
    "According to our model's predictions, each region should be profitable with average reserve volumes above the calculated minimums. While this appears true, it is not quite indicative of what kind of profit we can actually achieve as these values were calculated using overall top 200 wells in each region (by predictions). We only have the budget to make initial measurements at 500 randomly selected locations, it's highly unlikely that the overall top 200 wells are contained in such a small sample."
   ]
  },
  {
   "attachments": {},
   "cell_type": "markdown",
   "metadata": {},
   "source": [
    "**Bootstrapping Samples**\n",
    "\n",
    "Using the bootstrapping technique, we'll generate 1,000 samples per region to  find the distribution of profit. For the sampling parameters, we'll opt to not replace chosen values as to simulate selecting unique well points for our calculations. Additionally, we'll calculate the 95% confidence interval and risk of losses."
   ]
  },
  {
   "cell_type": "code",
   "execution_count": 11,
   "metadata": {},
   "outputs": [
    {
     "data": {
      "text/html": [
       "<div>\n",
       "<style scoped>\n",
       "    .dataframe tbody tr th:only-of-type {\n",
       "        vertical-align: middle;\n",
       "    }\n",
       "\n",
       "    .dataframe tbody tr th {\n",
       "        vertical-align: top;\n",
       "    }\n",
       "\n",
       "    .dataframe thead th {\n",
       "        text-align: right;\n",
       "    }\n",
       "</style>\n",
       "<table border=\"1\" class=\"dataframe\">\n",
       "  <thead>\n",
       "    <tr style=\"text-align: right;\">\n",
       "      <th></th>\n",
       "      <th>Region</th>\n",
       "      <th>Average Estimated Profit</th>\n",
       "      <th>95% Confidence Interval</th>\n",
       "      <th>Risk of Loss</th>\n",
       "    </tr>\n",
       "  </thead>\n",
       "  <tbody>\n",
       "    <tr>\n",
       "      <th>0</th>\n",
       "      <td>Region 0</td>\n",
       "      <td>3.807109e+06</td>\n",
       "      <td>(3646247.0295118885, 3967970.784669607)</td>\n",
       "      <td>7.2</td>\n",
       "    </tr>\n",
       "    <tr>\n",
       "      <th>1</th>\n",
       "      <td>Region 1</td>\n",
       "      <td>4.547854e+06</td>\n",
       "      <td>(4419792.413792762, 4675916.281521496)</td>\n",
       "      <td>1.3</td>\n",
       "    </tr>\n",
       "    <tr>\n",
       "      <th>2</th>\n",
       "      <td>Region 2</td>\n",
       "      <td>3.892171e+06</td>\n",
       "      <td>(3728577.3201472466, 4055764.1535641546)</td>\n",
       "      <td>7.3</td>\n",
       "    </tr>\n",
       "  </tbody>\n",
       "</table>\n",
       "</div>"
      ],
      "text/plain": [
       "     Region  Average Estimated Profit  \\\n",
       "0  Region 0              3.807109e+06   \n",
       "1  Region 1              4.547854e+06   \n",
       "2  Region 2              3.892171e+06   \n",
       "\n",
       "                    95% Confidence Interval  Risk of Loss  \n",
       "0   (3646247.0295118885, 3967970.784669607)           7.2  \n",
       "1    (4419792.413792762, 4675916.281521496)           1.3  \n",
       "2  (3728577.3201472466, 4055764.1535641546)           7.3  "
      ]
     },
     "metadata": {},
     "output_type": "display_data"
    }
   ],
   "source": [
    "state = np.random.RandomState(12345)\n",
    "cols = ['Region', 'Average Estimated Profit', '95% Confidence Interval', 'Risk of Loss']\n",
    "data = []\n",
    "\n",
    "for idx in range(len(region_list)):\n",
    "    values = []\n",
    "    \n",
    "    for i in range(1000):\n",
    "        predict_subsample = predict_list[idx].sample(n=min_survey_size, replace=False, random_state=state)\n",
    "        target_subsample = target_list[idx][predict_subsample.index]\n",
    "        \n",
    "        revenue, avg_volume = calc_profit_avg_volume(target_subsample, predict_subsample)\n",
    "        values.append(revenue)\n",
    "        \n",
    "    sample = pd.Series(values)\n",
    "    confidence_interval = st.t.interval(0.95, len(sample)-1, sample.mean(), sample.sem())\n",
    "    risk_of_loss = (sample[sample < 0].count()/sample.size)*100\n",
    "    \n",
    "    data.append([sample.mean()] + [confidence_interval] + [risk_of_loss])\n",
    "\n",
    "display(compile_df(data, cols))"
   ]
  },
  {
   "attachments": {},
   "cell_type": "markdown",
   "metadata": {},
   "source": [
    "When looking over the predictions of 1,000 bootstrapped samples, our calculations suggest that the most reliable profits would be gained in region 1. While the previous findings showed that each region would be profitable and that region 0 appeared to be the highest, our calculations here show that region 1 has the higher distribution of profits (higher 95 confidence interval) as well as the lowest risk of loss percentage. Furthermore, region 1 is the only region is below our acceptable risk threshold of 2.5%."
   ]
  },
  {
   "attachments": {},
   "cell_type": "markdown",
   "metadata": {},
   "source": [
    "## Conclusion ##\n",
    "\n",
    "We saw two different approaches that had potentially conflicting results when using model predictions in the mining company's business venture. While the selected locations using only the model predictions showed potential profits were an order of magnitude higher in region 0, the bootstrapping technique showed there could be other factors that drive business decisions, such as the overall profit distribution and risks. As such, it is imperative to understand both short and long term goals when providing insight for operational guidance. While region 0 may appear to generate the most revenue, long term development could potentially result in lower than expected profits. If higher profit distribution with lower associated risk of loss is more important to operations, new wells should be developed in region 1."
   ]
  }
 ],
 "metadata": {
  "kernelspec": {
   "display_name": "Python 3",
   "language": "python",
   "name": "python3"
  },
  "language_info": {
   "codemirror_mode": {
    "name": "ipython",
    "version": 3
   },
   "file_extension": ".py",
   "mimetype": "text/x-python",
   "name": "python",
   "nbconvert_exporter": "python",
   "pygments_lexer": "ipython3",
   "version": "3.11.1"
  },
  "orig_nbformat": 4,
  "vscode": {
   "interpreter": {
    "hash": "2acc139864183d3ac83c310a405f58714beffd069d122ecf4c167777b3a3f96a"
   }
  }
 },
 "nbformat": 4,
 "nbformat_minor": 2
}
